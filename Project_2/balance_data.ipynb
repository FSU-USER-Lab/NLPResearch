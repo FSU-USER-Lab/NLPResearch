{
 "cells": [
  {
   "cell_type": "markdown",
   "metadata": {},
   "source": [
    "### Notebook to perform SMOTE"
   ]
  },
  {
   "cell_type": "code",
   "execution_count": 1,
   "metadata": {},
   "outputs": [],
   "source": [
    "import csv\n",
    "import matplotlib.pyplot as plt\n",
    "import numpy as np\n",
    "import tensorflow as tf\n",
    "import utils\n",
    "\n",
    "from imblearn.over_sampling import SMOTE\n",
    "from tensorflow.keras.layers.experimental.preprocessing import TextVectorization"
   ]
  },
  {
   "cell_type": "code",
   "execution_count": 2,
   "metadata": {},
   "outputs": [],
   "source": [
    "INPUT_DATA_FILE = 'data/eanci/eanci_data.txt'\n",
    "INPUT_LABEL_FILE = 'data/eanci/eanci_labels.txt'\n",
    "\n",
    "OUTPUT_DATA_FILE = 'data/eanci/eanci_data_balanced.txt'\n",
    "OUTPUT_LABEL_FILE = 'data/eanci/eanci_labels_balanced.txt'\n",
    "\n",
    "'''\n",
    "Ratio defining how many synthetic minority samples should be created. 1.0 results in a fully balanced set.\n",
    "Float on interval (0.0, 1.0]\n",
    "'''\n",
    "BALANCE_RATIO = 1.0\n",
    "\n",
    "'''\n",
    "Specify number of words in a sequence for vectorize layer.\n",
    "Sequence stats and lengths plot found below.\n",
    "'''\n",
    "SEQUENCE_LENGTH = 500"
   ]
  },
  {
   "cell_type": "code",
   "execution_count": 3,
   "metadata": {},
   "outputs": [],
   "source": [
    "training_data = []\n",
    "labels = []\n",
    "lengths = []"
   ]
  },
  {
   "cell_type": "code",
   "execution_count": 4,
   "metadata": {},
   "outputs": [],
   "source": [
    "# Load metadocs\n",
    "with open(INPUT_DATA_FILE, newline='') as datafile:\n",
    "    data_reader = csv.reader(datafile, delimiter='\\n')\n",
    "    \n",
    "    for row in data_reader:\n",
    "        training_data.append(row[0])"
   ]
  },
  {
   "cell_type": "code",
   "execution_count": 5,
   "metadata": {},
   "outputs": [],
   "source": [
    "# Load labels\n",
    "with open(INPUT_LABEL_FILE, newline='') as labelfile:\n",
    "    label_reader = csv.reader(labelfile, delimiter='\\n')\n",
    "    \n",
    "    for row in label_reader:\n",
    "        labels.append(int(row[0]))"
   ]
  },
  {
   "cell_type": "code",
   "execution_count": 6,
   "metadata": {},
   "outputs": [
    {
     "name": "stdout",
     "output_type": "stream",
     "text": [
      "Number of metadocuments:  7645\n",
      "Vocab size:  1299\n",
      "Avg seq length:  502.5982995421844\n",
      "Min seq len:  56\n",
      "Max seq len:  2367\n"
     ]
    }
   ],
   "source": [
    "# Sequence information for loaded set\n",
    "for seq in training_data:\n",
    "    lengths.append(len(seq.split()))\n",
    "\n",
    "print('Number of metadocuments: ', len(training_data))\n",
    "print('Vocab size: ', utils.vocabulary_size(training_data))\n",
    "print('Avg seq length: ', sum(lengths) / len(lengths))\n",
    "print('Min seq len: ', min(lengths))\n",
    "print('Max seq len: ', max(lengths))"
   ]
  },
  {
   "cell_type": "code",
   "execution_count": 7,
   "metadata": {},
   "outputs": [
    {
     "data": {
      "image/png": "[encoded data removed]",
      "text/plain": [
       "<Figure size 432x288 with 1 Axes>"
      ]
     },
     "metadata": {
      "needs_background": "light"
     },
     "output_type": "display_data"
    }
   ],
   "source": [
    "# Plot the sequence length of each metadocument in the dataset\n",
    "X = [x for x in range(len(lengths))]\n",
    "\n",
    "plt.scatter(X, lengths)\n",
    "plt.show()"
   ]
  },
  {
   "cell_type": "code",
   "execution_count": 8,
   "metadata": {},
   "outputs": [],
   "source": [
    "# Convert data and labels to TF dataset in order to use TextVectorization\n",
    "unbalanced_data = [tf.convert_to_tensor(metadoc) for metadoc in training_data]\n",
    "unbalanced_ds = tf.data.Dataset.from_tensor_slices((unbalanced_data,labels)).batch(32)"
   ]
  },
  {
   "cell_type": "code",
   "execution_count": 9,
   "metadata": {},
   "outputs": [],
   "source": [
    "'''\n",
    "Use the text vectorization layer to split, prune and map strings to integers.\n",
    "Set maximum_sequence length as all samples are not of the same length.\n",
    "'''\n",
    "vectorize_layer = TextVectorization(\n",
    "    output_mode='int',\n",
    "    output_sequence_length=SEQUENCE_LENGTH)\n",
    "\n",
    "# Load vocab into vectorization layer\n",
    "vectorize_layer.set_vocabulary(utils.get_vocabulary(training_data))"
   ]
  },
  {
   "cell_type": "code",
   "execution_count": 10,
   "metadata": {},
   "outputs": [],
   "source": [
    "# List structure\n",
    "tf_vocab = vectorize_layer.get_vocabulary()"
   ]
  },
  {
   "cell_type": "code",
   "execution_count": 11,
   "metadata": {},
   "outputs": [
    {
     "name": "stdout",
     "output_type": "stream",
     "text": [
      "['', '[UNK]', 'gi', 'sorg', 'nametab8', 'parchegg', 'entrar', 'descrizion', 'forward', 'pubblic', 'uffici', 'ippa', 'logout', 'smarr', 'possess', 'richied', 'dirett', 'pagin', 'ragazz', 'intopp', 'increment', 'failur', 'user', 'nc', 'apertur', 'manag', 'domand', 'gg', 'surnametab4', 'costier', 'pericol', 'pag', 'percor', 'amm', 'puntualizz', 'idf', 'v2', 'dip', 'interag', 'corrispond', 'annul', 'ripres', 'check', 'familiar', 'type', 'surnametab8', 'sol', 'esemp', 'termin', 'surnametab6', 'seguent', 'attrav', 'nomec', 'surnametab2', 'indenn', 'mm', 'statofamigl', 'svolt', 'dichiar', 'bold', 'canc', 'rispond', 'cpassword', 'send', 'immess', 'localhost', 'sussist', 'telef', 'hidden', 'paramet', 'veng', 'contien', 'exe', 'esit', 'tossicolog', 'bosc', 'priv', 'compet', 'ricav', 'nametab1', 'press', 'justifi', 'campion', 'ab', 'oltr', 'cod', 'esecut', 'prec', 'eff', 'transfer', 'domicil', 'stmt', 'anali', 'particol', 'inscrizion', 'aa6', 'connect', 'igien', 'motor', 'rallent', 'ilsistemaeliminalaprenot', 'esatt', 'poliz', 'validit', 'volontar', 'interlocutor', 'desid', 'scegl', 'ver', 'sett', 'rang', 'mete', 'legg', 'card', 'visit', 'estors', 'order', 'civ', 'utilit', 'numer', 'ca', 'instanc', 'vittim', 'quel', 'ricerc', 'compon', 'dbnc', 'giunt', 'sottomiss', 'verif', 'essi', 'appartien', 'disponibilit', 'navig', 'terz', 'z0', 'affiss', 'caric', 'possessor', 'pian', 'ra', 'anci', 'ordin', 'mostr', 'intuit', 'surnam', 'paramentr', 'prenot', 'cop', 'addett', 'access', 'dopod', 'newfil', 'particolar', 'comp', 'newnucl', 'codicefisc', 'length', 'iniz', 'ent', 'zer', 'marescial', 'content', 'modalit', 'ilsistemastampalaprenot', 'cont', 'propr', 'rec', 'quind', 'courier', 'year', 'combin', 'forn', 'inp', 'risc', 'calcol', 'municip', 'session', 'real', 'post', 'stamp', 'ril', 'nuclf', 'tecnic', 'territori', 'tutel', 'nametab2', 'istanz', 'pubblicit', 'princip', 'informat', 'organigramm', 'qualsia', 'libr', 'scelt', 'invec', 'stream', 'origin', 'stciv', 'parent', 'situazion', 'modulist', 'conviv', 'sportel', 'e1', 'francesc', 'idric', 'aa3', 'init', 'consigl', 'commiss', 'handicap', 'name5', 'ilsistemamostrairisultatidellaricerc', 'ser', 'matricol', 'rapport', 'inesist', 'swing', 'last', 'id', 'align', 'variabil', 'messagg', 'apparten', 'cercher', 'ident', 'eserc', 'nucleof', 'patr', 'prepar', 'egli', 'civil', 'cim', 'riusc', 'citat', 'region', 'potest', 'alleg', 'oper', 'availabl', 'searc', 'list', 'parentela6', 'pro', 'elimin', 'luogo3', 'qualor', 'esist', 'cardad', 'datar', 'conv', 'instanz', 'membr', 'driver', 'irpef', 'diver', 'dispatch', 'lunghezz', 'adult', 'seriviz', 'uffic', 'camb', 'econom', 'idat', 'tecnolog', 'cart', 'connes', 'copr', 'stat', 'pers1', 'extra', 'condizion', 'mediant', 'vist', 'contrassegn', 'invalid', 'unic', 'ultim', 'uscit', 'misur', 'sap', 'redatt', '6403170047487930045l', 'restitu', 'mentr', 'carat', 'ltor', 'datan', 'zon', 'giovan', 'sar', 'insiem', 'autent', 'inizi', 'main', 'nametab7', 'find', 'luogo4', 'abil', 'portat', 'gg3', 'abitabilit', 'elettor', 'split', 'trasport', 'pension', 'sopr', 'parent4', 'gest', 'accompagn', 'updat', 'rifiut', 'prefer', 'consult', 'param1', 'occup', 'appunt', 'newid', 'ricev', 'attor', 'atto', 'interv', 'mail', 'cc', 'atmosf', 'gregorian', 'indix', 'trov', 'quest', 'inter', 'propost', 'anzian', 'qualif', 'jdbc', 'orfan', 'marc', 'parentela5', 'indennit', 'ancor', 'parentela3', 'nfm', 'lin', 'localizz', 'check1', 'gc', 'concess', 'stub', 'confront', 'select', 'titol', 'fogl', 'aiut', 'osserv', 'mm2', 'allogg', 'introdutt', 'exc', 'valor', 'govern', 'indiconiug', 'url', 'filenam', 'fi', 'reper', 'garant', 'oggett', 'desum', 'output', 'accert', 'risi', 'fond', 'colloqu', 'str', 'destin', 'spaz', 'registr', 'difficolt', 'famigl', 'aa', 'mm4', 'suffici', 'civnew', 'sistem', 'sempr', 'approfond', 'prerequi', 'val', 'exec', 'tel', 'compil', 'ronc', 'println', 'nazion', 'serial', 'realment', 'nome11', 'christian', 'strett', 'prov', 'pp2', 'sdat', 'sourc', 'affianc', 'gener', 'set', 'co', 'torn', 'vogl', 'ric', 'inoltr', 'load', 'pipp', 'interno1', 'mort', 'circolar', 'adott', 'possibilit', 'ri', 'check3', 'statur', 'legal', 'coerent', 'solidariet', 'setn', 'automat', 'urban', 'support', 'senz', 'funzionalit', 'ici', 'altri', 'gestion', 'entra', 'colleg', 'surname2', 'per', 'rivel', 'spiegazion', 'meteorolog', 'prefiss', 'destinatar', 'month2', 'otten', 'risult', 'offrend', 'remov', 'dispon', 'nametab3', 'boll', 'input', 'surnametab7', 'surname3', 'comprend', 'version', 'notif', 'informagiovan', 'odiern', 'circ', 'upload', 'stack', 'cogn', 'db', 'applic', 'numb', 'disposizion', 'centesim', 'lat', 'sess', 'circo', 'bornd', 'accept', 'properti', 'element', 'np2', 'asl', 'special', 'normat', 'incend', 'pra', 'inizializz', 'surname5', 'fascicol', 'np3', 'collabor', 'hom', 'previst', 'sfratt', 'scaric', 'eros', 'provinc', 'firm', 'art', 'muse', 'attrib', 'prof', 'soc', 'runtim', 'estrem', 'consu', 'sp', 'interess', 'iscriv', 'rientr', 'nucl', 'cog', 'jsp', 'memorizz', 'semplic', 'parol', 'surnametab1', 'famil', 'stator', 'print', '168526506138896791l', 'prefettur', 'rifer', 'add', 'width', 'server', 'voler', 'rest', 'dr', 'appo', 'mchang', 'effett', 'dimor', 'univoc', 'event', 'parent5', 'vecc', 'doc', 'read', 'procedur', 'conness', 'tracc', 'problem', 'fatt', 'parentel', 'fisic', 'parentela4', 'oppur', 'nasc', 'contest', 'dovr', 'name2', 'preve', 'indic', 'vi', 'conform', 'conosc', 'aa4', 'textar', 'usur', 'resp', 'gg2', 'ba', 'erog', 'name6', 'sen', 'lavor', 'jav', 'sc', 'name3', 'ruol', 'parametr', 'cognom', 'next', 'maggior', 'assum', 'dipend', 'att', 'desc', 'numciv', 'codf', 'name1', 'provien', 'minor', 'contatt', 'iscrizion', 'verbal', 'identita1', 'proce', 'aa5', 'inout', 'nuov', 'accogli', 'warn', 'comit', 'rispett', 'rs', 'ambient', 'month', 'decrement', 'esser', 'madr', 'telefon', 'aid', 'tod', 'effettu', 'loc', 'uso', 'minim', 'newsurnam', 'feder', 'index', 'altr', 'pluviometr', 'inserir', 'distribu', 'magg', 'caratt', 'data', 'matr', 'rif', 'intern', 'andr', 'protezion', 'found', 'pi', 'responsabilit', 'accord', 'nametab4', 'salv', 'prend', 'idr', 'paragraph', 'nametab5', 'tram', 'parent6', 'prega', 'avergl', 'consapevol', 'vigil', 'prelev', 'abitu', 'complet', 'buon', 'aver', 'trasfert', 'selezion', 'sanitar', 'sev', 'estens', 'pdf', 'scuol', 'fognar', 'regol', 'model', 'identif', 'verr', 'usat', 'uid', 'scaten', 'raccolt', 'ln', 'citizen', 'avvi', 'offertogl', 'certif', 'invi', 'newv', 'moment', 'altern', 'perven', 'completezz', 'spiacent', 'cerc', 'anton', 'ilsistemamodificalaprenot', 'identit', 'componenet', 'turism', 'caratterist', 'altro', 'corrspond', 'coscienz', 'acqu', 'indirizz', 'leon', 'sottomess', 'prof1', 'writ', 'apport', 'esig', 'dbcart', 'diment', 'idm', 'login', 'download', 'incorrett', 'tipor', 'stess', 'tabel', 'contain', 'tipolog', 'coniug', 'dicembr', 'suppress', 'nome12', 'psic', 'fac', 'denunc', 'norm', 'parent1', 'control', 'perc', 'occ', 'esp', 'helvet', 'osservtext', 'ilsistemainvialarichiestaal', 'get', 'aaaa', 'surname1', 'scherm', 'insert', 'riesc', 'includ', 'reduc', 'nom', 'liber', 'nomefile2', 'alcom', 'redirig', 'ulterior', 'chang', 'dettagl', 'signif', 'fall', 'relat', 'open', 'circol', 'persoc', 'gg4', 'logg', 'result', 'altra', 'leg', 'imp', 'riusciss', 'occhi', 'codfi', 'prem', 'contratt', 'inform', 'old', 'max', 'statement', 'espatr', 'path', 'illec', 'circost', 'div', 'onlin', 'poic', 'sottomett', 'correttezz', 'consultor', 'disag', 'cittadin', 'dev', 'comm', 'flag', 'mobilit', 'javax', 'anno', 'territor', 'esattezz', 'sostitu', 'nche', 'prel', 'newmail', 'scritt', 'mater', 'ogni', 'webapp', 'compr', 'cpd', 'propriet', 'vide', 'riport', 'newcomun', 'gg1', 'cp2', 'constructor', 'vuot', 'accesso', 'eccezion', 'parentela1', 'prep', 'abitaz', 'nf', 'permess', 'specif', 'question', 'gg6', 'mm3', 'sched', 'riepilog', 'collect', 'error', 'verifichin', 'empti', 'brev', 'mett', 'esplor', 'indir', 'partner', 'invalidit', 'array', 'pp3', 'tia', 'pass', 'consegn', 'cinqu', 'cf', 'social', 'string', 'chiav', 'deprec', 'except', 'soddisf', 'ugual', 'nat', 'cancel', 'segn', 'serv', 'call', 'context', 'form', 'luogo6', 'ecc', 'abilit', 'autorizz', 'font', 'iner', 'cell', 'concat', 'util', 'proiett', 'month3', 'conferm', 'parent2', 'burocrat', 'stabil', 'necessar', 'ds', 'incolumit', 'archiv', 'name4', 'intervien', 'fiscal', 'immobil', 'normal', 'tabl', 'flag2', 'c3', 'contat', 'ampi', 'vigent', 'mm6', 'usernam', 'oreilli', 'clo', 'cartad', 'xnnnnnnn', 'averl', 'entrat', 'newnam', 'respon', 'respint', 'suol', 'cm', 'vulcan', 'password', 'count', 'log', 'link', 'costruttor', 'luogo2', 'usufru', 'mm5', 'vulc', 'soccor', 'articol', 'mim', 'descritt', 'matrimon', 'requi', 'pp1', 'author', 'calend', 'reazion', 'p0', 'cond', 'esserm', 'michelangel', 'monitoragg', 'edha', 'tutt', 'monitor', 'salient', 'suddivi', 'orar', 'salvatagg', 'civic', 'guerr', 'quand', 'nametab6', 'impost', 'almen', 'impieg', 'clicc', 'help', 'acc', 'luogo1', 'codic', 'spieg', 'malatt', 'espert', 'porzion', 'ip', 'conf', 'vuol', 'modul', 'ret', 'oggi', 'parent3', 'servlet', 'second', 'prevenzion', 'valid', 'tass', 'poll', 'fil', 'assegn', 'temperatur', 'cartaid', 'agibilit', 'viagg', 'dolo', 'nessun', 'ilsistemavisualizzalacircolarescelt', 'funzion', 'edhaun', 'tast', 'osser', 'surnametab5', 'civico1', 'acqui', 'decid', 'p1', 'part', 'par', 'success', 'indiriz', 'comb', 'comun', 'abit', 'filtr', 'richiest', 'surname4', 'profession', 'adverti', 'fran', 'relazion', 'sed', 'adm', 'check2', 'assistenzi', 'chiud', 'esc', 'preselezion', 'fenomen', 'temp', 'istitu', 'fla', 'sql', 'now2', 'dop', 'autorit', 'organ', 'sostitut', 'elettron', 'equal', 'pien', 'bibliotec', 'chiam', 'fa', 'mobil', 'livello2', 'document', 'motiv', 'vien', 'vision', 'impieagt', 'sezion', 'tip', 'luogo5', 'segu', 'idc', 'attivit', 'residenc', 'grupp', 'elim', 'sismic', 'func', 'concor', 'invoc', 'servet', 'esso', '6835425792119775069l', 'rimand', 'config', 'chimic', 'preced', 'recap', 'disp', 'newcf', 'redd', 'estend', 'soddisfatt', 'text', 'andat', 'esib', 'antrop', 'defin', 'evit', 'azion', 'eruzion', 'allor', 'immiss', 'hair', 'client', 'edhalunghezz', 'pu', 'standard', 'livel', 'prescelt', 'assunzion', 'determin', 'botton', 'dispost', 'creazion', 'modif', 'local', 'accett', 'integ', 'gerarc', 'curiosit', 'surnametab3', 'eye', 'intend', 'email', 'attual', 'altriment', 'riconosc', 'utilizz', 'proprietar', 'param', 'mal', 'recup', 'lowag', 'vann', 'alluvion', 'adv', 'definizion', 'admin', 'sott', 'ridirezion', 'rinnov', 'flag1', 'tal', 'txt', 'np1', 'partecip', 'terremot', 'rispost', 'richiam', 'poch', 'numberdocu', 'serviz', 'center', 'innanzitutt', 'possibil', 'camp', 'a4', 'controllaid', 'pertant', 'fin', 'pref', 'conten', 'resid', 'visualizz', 'indirnew', 'aa2', 'nascost', 'ritorn', 'progett', 'vet', 'nucleofamil', 'repositori', 'avanz', 'posit', 'divent', 'cr', 'promozion', 'idp', 'assoc', 'metod', 'seviz', 'poter', 'cianciul', 'rilasc', 'approv', 'avven', 'trasfer', 'pulsant', 'nl', 'ediliz', 'chiest', 'gen', 'file', 'opzion', 'estern', 'luogon', 'disabil', 'espress', 'alto', 'natur', 'consent', 'citt', 'sottoscritt', 'unit', 'rappres', 'luog', 'altezz', 'cp3', 'riscontr', 'enti', 'accant', 'disconnett', 'con', 'databa', 'comunenam', 'dbr', 'cartac', 'indirett', 'identita2', 'esecu', '2298846540114609975l', 'settagg', 'cre', 'errat', 'notiz', 'info', 'valu', 'cartel', 'terren', 'esegu', 'gazzett', 'queri', 'curant', 'transazion', 'modulon', 'batteriolog', 'compost', 'poss', 'stud', 'poi', 'durant', 'redirect', 'locazion', 'ora', 'scadenz', 'cap', 'attiv', 'esent', 'left', 'pers2', 'svolg', 'dbm', 'chi', 'ilsistemavisualizzailfascicol', 'surname6', 'eventu', 'rd', 'aa1', 'aument', 'piccol', 'arriv', 'avvien', 'connot', 'composizion', 'notturn', 'capofamigl', 'right', 'continu', 'tesser', 'mand', 'mm1', 'preven', 'utent', 'letter', 'cau', 'http', 'remot', 'aggiung', 'massim', 'fornitegl', 'strument', 'emerg', 'inser', 'bean', 'riguard', 'person', 'rend', 'mess', 'risp', 'present', 'ac', 'permett', 'mendac', 'amministr', 'percentag', 'directori', 'penal', 'autocertif', 'test', 'mp3', 'elenc', 'corrett', 'giorn', 'tosap', 'pool', 'trac', 'cntlr', 'deten', 'ten', 'dic', 'dovrebb', 'dpr', 'upper', 'idtrov', 'corrent', 'aspett', 'decidess', 'grandezz', 'dbric', 'ore', 'parentela2', 'anagraf', 'news', 'messag', 'worker', 'profess', 'fout', 'aggiorn', 'cp1', 'multipart', 'categor', 'residenzi', 'frequent', 'splitter', 'day', 'qualc', 'medic', 'radio1', 'scorrett', 'band', 'lung', 'random', 'assist', 'pratic', 'ovvi', 'sf', 'chiunqu', 'refert', 'stri', 'manten', 'richi', 'cifr', 'gg5', 'favor', 'capel', 'writer', 'idro', 'obiett', 'catast', 'allacc', 'compl', 'immagin', 'spedizion', 'ignor', 'lanc', 'idn', 'dedic', 'notoriet', 'filter', 'request']\n"
     ]
    }
   ],
   "source": [
    "print(tf_vocab)"
   ]
  },
  {
   "cell_type": "code",
   "execution_count": 12,
   "metadata": {},
   "outputs": [],
   "source": [
    "# Get original vocabulary from unbalanced training data\n",
    "vocab = utils.get_vocabulary(training_data)\n",
    "inverse_vocab = {}\n",
    "\n",
    "'''\n",
    "Create an inverse vocabulary so we can decode the balanced vectorized data.\n",
    "Index of word in vectorization layer's vocabulary maps to it's int encoding.\n",
    "'''\n",
    "for i, word in enumerate(tf_vocab):\n",
    "    inverse_vocab[i] = word"
   ]
  },
  {
   "cell_type": "code",
   "execution_count": 13,
   "metadata": {},
   "outputs": [
    {
     "name": "stdout",
     "output_type": "stream",
     "text": [
      "empty string\n",
      "[UNK]\n"
     ]
    }
   ],
   "source": [
    "'''\n",
    "Print any words added to vocab by TF.\n",
    "Expected: empty string and [UNK]\n",
    "'''\n",
    "for word in enumerate(tf_vocab):    \n",
    "    if word[1] not in vocab:\n",
    "        if word[1] == '':\n",
    "            print('empty string')\n",
    "        else:\n",
    "            print(word[1])"
   ]
  },
  {
   "cell_type": "code",
   "execution_count": 14,
   "metadata": {},
   "outputs": [
    {
     "name": "stdout",
     "output_type": "stream",
     "text": [
      "{0: '', 1: '[UNK]', 2: 'gi', 3: 'sorg', 4: 'nametab8', 5: 'parchegg', 6: 'entrar', 7: 'descrizion', 8: 'forward', 9: 'pubblic', 10: 'uffici', 11: 'ippa', 12: 'logout', 13: 'smarr', 14: 'possess', 15: 'richied', 16: 'dirett', 17: 'pagin', 18: 'ragazz', 19: 'intopp', 20: 'increment', 21: 'failur', 22: 'user', 23: 'nc', 24: 'apertur', 25: 'manag', 26: 'domand', 27: 'gg', 28: 'surnametab4', 29: 'costier', 30: 'pericol', 31: 'pag', 32: 'percor', 33: 'amm', 34: 'puntualizz', 35: 'idf', 36: 'v2', 37: 'dip', 38: 'interag', 39: 'corrispond', 40: 'annul', 41: 'ripres', 42: 'check', 43: 'familiar', 44: 'type', 45: 'surnametab8', 46: 'sol', 47: 'esemp', 48: 'termin', 49: 'surnametab6', 50: 'seguent', 51: 'attrav', 52: 'nomec', 53: 'surnametab2', 54: 'indenn', 55: 'mm', 56: 'statofamigl', 57: 'svolt', 58: 'dichiar', 59: 'bold', 60: 'canc', 61: 'rispond', 62: 'cpassword', 63: 'send', 64: 'immess', 65: 'localhost', 66: 'sussist', 67: 'telef', 68: 'hidden', 69: 'paramet', 70: 'veng', 71: 'contien', 72: 'exe', 73: 'esit', 74: 'tossicolog', 75: 'bosc', 76: 'priv', 77: 'compet', 78: 'ricav', 79: 'nametab1', 80: 'press', 81: 'justifi', 82: 'campion', 83: 'ab', 84: 'oltr', 85: 'cod', 86: 'esecut', 87: 'prec', 88: 'eff', 89: 'transfer', 90: 'domicil', 91: 'stmt', 92: 'anali', 93: 'particol', 94: 'inscrizion', 95: 'aa6', 96: 'connect', 97: 'igien', 98: 'motor', 99: 'rallent', 100: 'ilsistemaeliminalaprenot', 101: 'esatt', 102: 'poliz', 103: 'validit', 104: 'volontar', 105: 'interlocutor', 106: 'desid', 107: 'scegl', 108: 'ver', 109: 'sett', 110: 'rang', 111: 'mete', 112: 'legg', 113: 'card', 114: 'visit', 115: 'estors', 116: 'order', 117: 'civ', 118: 'utilit', 119: 'numer', 120: 'ca', 121: 'instanc', 122: 'vittim', 123: 'quel', 124: 'ricerc', 125: 'compon', 126: 'dbnc', 127: 'giunt', 128: 'sottomiss', 129: 'verif', 130: 'essi', 131: 'appartien', 132: 'disponibilit', 133: 'navig', 134: 'terz', 135: 'z0', 136: 'affiss', 137: 'caric', 138: 'possessor', 139: 'pian', 140: 'ra', 141: 'anci', 142: 'ordin', 143: 'mostr', 144: 'intuit', 145: 'surnam', 146: 'paramentr', 147: 'prenot', 148: 'cop', 149: 'addett', 150: 'access', 151: 'dopod', 152: 'newfil', 153: 'particolar', 154: 'comp', 155: 'newnucl', 156: 'codicefisc', 157: 'length', 158: 'iniz', 159: 'ent', 160: 'zer', 161: 'marescial', 162: 'content', 163: 'modalit', 164: 'ilsistemastampalaprenot', 165: 'cont', 166: 'propr', 167: 'rec', 168: 'quind', 169: 'courier', 170: 'year', 171: 'combin', 172: 'forn', 173: 'inp', 174: 'risc', 175: 'calcol', 176: 'municip', 177: 'session', 178: 'real', 179: 'post', 180: 'stamp', 181: 'ril', 182: 'nuclf', 183: 'tecnic', 184: 'territori', 185: 'tutel', 186: 'nametab2', 187: 'istanz', 188: 'pubblicit', 189: 'princip', 190: 'informat', 191: 'organigramm', 192: 'qualsia', 193: 'libr', 194: 'scelt', 195: 'invec', 196: 'stream', 197: 'origin', 198: 'stciv', 199: 'parent', 200: 'situazion', 201: 'modulist', 202: 'conviv', 203: 'sportel', 204: 'e1', 205: 'francesc', 206: 'idric', 207: 'aa3', 208: 'init', 209: 'consigl', 210: 'commiss', 211: 'handicap', 212: 'name5', 213: 'ilsistemamostrairisultatidellaricerc', 214: 'ser', 215: 'matricol', 216: 'rapport', 217: 'inesist', 218: 'swing', 219: 'last', 220: 'id', 221: 'align', 222: 'variabil', 223: 'messagg', 224: 'apparten', 225: 'cercher', 226: 'ident', 227: 'eserc', 228: 'nucleof', 229: 'patr', 230: 'prepar', 231: 'egli', 232: 'civil', 233: 'cim', 234: 'riusc', 235: 'citat', 236: 'region', 237: 'potest', 238: 'alleg', 239: 'oper', 240: 'availabl', 241: 'searc', 242: 'list', 243: 'parentela6', 244: 'pro', 245: 'elimin', 246: 'luogo3', 247: 'qualor', 248: 'esist', 249: 'cardad', 250: 'datar', 251: 'conv', 252: 'instanz', 253: 'membr', 254: 'driver', 255: 'irpef', 256: 'diver', 257: 'dispatch', 258: 'lunghezz', 259: 'adult', 260: 'seriviz', 261: 'uffic', 262: 'camb', 263: 'econom', 264: 'idat', 265: 'tecnolog', 266: 'cart', 267: 'connes', 268: 'copr', 269: 'stat', 270: 'pers1', 271: 'extra', 272: 'condizion', 273: 'mediant', 274: 'vist', 275: 'contrassegn', 276: 'invalid', 277: 'unic', 278: 'ultim', 279: 'uscit', 280: 'misur', 281: 'sap', 282: 'redatt', 283: '6403170047487930045l', 284: 'restitu', 285: 'mentr', 286: 'carat', 287: 'ltor', 288: 'datan', 289: 'zon', 290: 'giovan', 291: 'sar', 292: 'insiem', 293: 'autent', 294: 'inizi', 295: 'main', 296: 'nametab7', 297: 'find', 298: 'luogo4', 299: 'abil', 300: 'portat', 301: 'gg3', 302: 'abitabilit', 303: 'elettor', 304: 'split', 305: 'trasport', 306: 'pension', 307: 'sopr', 308: 'parent4', 309: 'gest', 310: 'accompagn', 311: 'updat', 312: 'rifiut', 313: 'prefer', 314: 'consult', 315: 'param1', 316: 'occup', 317: 'appunt', 318: 'newid', 319: 'ricev', 320: 'attor', 321: 'atto', 322: 'interv', 323: 'mail', 324: 'cc', 325: 'atmosf', 326: 'gregorian', 327: 'indix', 328: 'trov', 329: 'quest', 330: 'inter', 331: 'propost', 332: 'anzian', 333: 'qualif', 334: 'jdbc', 335: 'orfan', 336: 'marc', 337: 'parentela5', 338: 'indennit', 339: 'ancor', 340: 'parentela3', 341: 'nfm', 342: 'lin', 343: 'localizz', 344: 'check1', 345: 'gc', 346: 'concess', 347: 'stub', 348: 'confront', 349: 'select', 350: 'titol', 351: 'fogl', 352: 'aiut', 353: 'osserv', 354: 'mm2', 355: 'allogg', 356: 'introdutt', 357: 'exc', 358: 'valor', 359: 'govern', 360: 'indiconiug', 361: 'url', 362: 'filenam', 363: 'fi', 364: 'reper', 365: 'garant', 366: 'oggett', 367: 'desum', 368: 'output', 369: 'accert', 370: 'risi', 371: 'fond', 372: 'colloqu', 373: 'str', 374: 'destin', 375: 'spaz', 376: 'registr', 377: 'difficolt', 378: 'famigl', 379: 'aa', 380: 'mm4', 381: 'suffici', 382: 'civnew', 383: 'sistem', 384: 'sempr', 385: 'approfond', 386: 'prerequi', 387: 'val', 388: 'exec', 389: 'tel', 390: 'compil', 391: 'ronc', 392: 'println', 393: 'nazion', 394: 'serial', 395: 'realment', 396: 'nome11', 397: 'christian', 398: 'strett', 399: 'prov', 400: 'pp2', 401: 'sdat', 402: 'sourc', 403: 'affianc', 404: 'gener', 405: 'set', 406: 'co', 407: 'torn', 408: 'vogl', 409: 'ric', 410: 'inoltr', 411: 'load', 412: 'pipp', 413: 'interno1', 414: 'mort', 415: 'circolar', 416: 'adott', 417: 'possibilit', 418: 'ri', 419: 'check3', 420: 'statur', 421: 'legal', 422: 'coerent', 423: 'solidariet', 424: 'setn', 425: 'automat', 426: 'urban', 427: 'support', 428: 'senz', 429: 'funzionalit', 430: 'ici', 431: 'altri', 432: 'gestion', 433: 'entra', 434: 'colleg', 435: 'surname2', 436: 'per', 437: 'rivel', 438: 'spiegazion', 439: 'meteorolog', 440: 'prefiss', 441: 'destinatar', 442: 'month2', 443: 'otten', 444: 'risult', 445: 'offrend', 446: 'remov', 447: 'dispon', 448: 'nametab3', 449: 'boll', 450: 'input', 451: 'surnametab7', 452: 'surname3', 453: 'comprend', 454: 'version', 455: 'notif', 456: 'informagiovan', 457: 'odiern', 458: 'circ', 459: 'upload', 460: 'stack', 461: 'cogn', 462: 'db', 463: 'applic', 464: 'numb', 465: 'disposizion', 466: 'centesim', 467: 'lat', 468: 'sess', 469: 'circo', 470: 'bornd', 471: 'accept', 472: 'properti', 473: 'element', 474: 'np2', 475: 'asl', 476: 'special', 477: 'normat', 478: 'incend', 479: 'pra', 480: 'inizializz', 481: 'surname5', 482: 'fascicol', 483: 'np3', 484: 'collabor', 485: 'hom', 486: 'previst', 487: 'sfratt', 488: 'scaric', 489: 'eros', 490: 'provinc', 491: 'firm', 492: 'art', 493: 'muse', 494: 'attrib', 495: 'prof', 496: 'soc', 497: 'runtim', 498: 'estrem', 499: 'consu', 500: 'sp', 501: 'interess', 502: 'iscriv', 503: 'rientr', 504: 'nucl', 505: 'cog', 506: 'jsp', 507: 'memorizz', 508: 'semplic', 509: 'parol', 510: 'surnametab1', 511: 'famil', 512: 'stator', 513: 'print', 514: '168526506138896791l', 515: 'prefettur', 516: 'rifer', 517: 'add', 518: 'width', 519: 'server', 520: 'voler', 521: 'rest', 522: 'dr', 523: 'appo', 524: 'mchang', 525: 'effett', 526: 'dimor', 527: 'univoc', 528: 'event', 529: 'parent5', 530: 'vecc', 531: 'doc', 532: 'read', 533: 'procedur', 534: 'conness', 535: 'tracc', 536: 'problem', 537: 'fatt', 538: 'parentel', 539: 'fisic', 540: 'parentela4', 541: 'oppur', 542: 'nasc', 543: 'contest', 544: 'dovr', 545: 'name2', 546: 'preve', 547: 'indic', 548: 'vi', 549: 'conform', 550: 'conosc', 551: 'aa4', 552: 'textar', 553: 'usur', 554: 'resp', 555: 'gg2', 556: 'ba', 557: 'erog', 558: 'name6', 559: 'sen', 560: 'lavor', 561: 'jav', 562: 'sc', 563: 'name3', 564: 'ruol', 565: 'parametr', 566: 'cognom', 567: 'next', 568: 'maggior', 569: 'assum', 570: 'dipend', 571: 'att', 572: 'desc', 573: 'numciv', 574: 'codf', 575: 'name1', 576: 'provien', 577: 'minor', 578: 'contatt', 579: 'iscrizion', 580: 'verbal', 581: 'identita1', 582: 'proce', 583: 'aa5', 584: 'inout', 585: 'nuov', 586: 'accogli', 587: 'warn', 588: 'comit', 589: 'rispett', 590: 'rs', 591: 'ambient', 592: 'month', 593: 'decrement', 594: 'esser', 595: 'madr', 596: 'telefon', 597: 'aid', 598: 'tod', 599: 'effettu', 600: 'loc', 601: 'uso', 602: 'minim', 603: 'newsurnam', 604: 'feder', 605: 'index', 606: 'altr', 607: 'pluviometr', 608: 'inserir', 609: 'distribu', 610: 'magg', 611: 'caratt', 612: 'data', 613: 'matr', 614: 'rif', 615: 'intern', 616: 'andr', 617: 'protezion', 618: 'found', 619: 'pi', 620: 'responsabilit', 621: 'accord', 622: 'nametab4', 623: 'salv', 624: 'prend', 625: 'idr', 626: 'paragraph', 627: 'nametab5', 628: 'tram', 629: 'parent6', 630: 'prega', 631: 'avergl', 632: 'consapevol', 633: 'vigil', 634: 'prelev', 635: 'abitu', 636: 'complet', 637: 'buon', 638: 'aver', 639: 'trasfert', 640: 'selezion', 641: 'sanitar', 642: 'sev', 643: 'estens', 644: 'pdf', 645: 'scuol', 646: 'fognar', 647: 'regol', 648: 'model', 649: 'identif', 650: 'verr', 651: 'usat', 652: 'uid', 653: 'scaten', 654: 'raccolt', 655: 'ln', 656: 'citizen', 657: 'avvi', 658: 'offertogl', 659: 'certif', 660: 'invi', 661: 'newv', 662: 'moment', 663: 'altern', 664: 'perven', 665: 'completezz', 666: 'spiacent', 667: 'cerc', 668: 'anton', 669: 'ilsistemamodificalaprenot', 670: 'identit', 671: 'componenet', 672: 'turism', 673: 'caratterist', 674: 'altro', 675: 'corrspond', 676: 'coscienz', 677: 'acqu', 678: 'indirizz', 679: 'leon', 680: 'sottomess', 681: 'prof1', 682: 'writ', 683: 'apport', 684: 'esig', 685: 'dbcart', 686: 'diment', 687: 'idm', 688: 'login', 689: 'download', 690: 'incorrett', 691: 'tipor', 692: 'stess', 693: 'tabel', 694: 'contain', 695: 'tipolog', 696: 'coniug', 697: 'dicembr', 698: 'suppress', 699: 'nome12', 700: 'psic', 701: 'fac', 702: 'denunc', 703: 'norm', 704: 'parent1', 705: 'control', 706: 'perc', 707: 'occ', 708: 'esp', 709: 'helvet', 710: 'osservtext', 711: 'ilsistemainvialarichiestaal', 712: 'get', 713: 'aaaa', 714: 'surname1', 715: 'scherm', 716: 'insert', 717: 'riesc', 718: 'includ', 719: 'reduc', 720: 'nom', 721: 'liber', 722: 'nomefile2', 723: 'alcom', 724: 'redirig', 725: 'ulterior', 726: 'chang', 727: 'dettagl', 728: 'signif', 729: 'fall', 730: 'relat', 731: 'open', 732: 'circol', 733: 'persoc', 734: 'gg4', 735: 'logg', 736: 'result', 737: 'altra', 738: 'leg', 739: 'imp', 740: 'riusciss', 741: 'occhi', 742: 'codfi', 743: 'prem', 744: 'contratt', 745: 'inform', 746: 'old', 747: 'max', 748: 'statement', 749: 'espatr', 750: 'path', 751: 'illec', 752: 'circost', 753: 'div', 754: 'onlin', 755: 'poic', 756: 'sottomett', 757: 'correttezz', 758: 'consultor', 759: 'disag', 760: 'cittadin', 761: 'dev', 762: 'comm', 763: 'flag', 764: 'mobilit', 765: 'javax', 766: 'anno', 767: 'territor', 768: 'esattezz', 769: 'sostitu', 770: 'nche', 771: 'prel', 772: 'newmail', 773: 'scritt', 774: 'mater', 775: 'ogni', 776: 'webapp', 777: 'compr', 778: 'cpd', 779: 'propriet', 780: 'vide', 781: 'riport', 782: 'newcomun', 783: 'gg1', 784: 'cp2', 785: 'constructor', 786: 'vuot', 787: 'accesso', 788: 'eccezion', 789: 'parentela1', 790: 'prep', 791: 'abitaz', 792: 'nf', 793: 'permess', 794: 'specif', 795: 'question', 796: 'gg6', 797: 'mm3', 798: 'sched', 799: 'riepilog', 800: 'collect', 801: 'error', 802: 'verifichin', 803: 'empti', 804: 'brev', 805: 'mett', 806: 'esplor', 807: 'indir', 808: 'partner', 809: 'invalidit', 810: 'array', 811: 'pp3', 812: 'tia', 813: 'pass', 814: 'consegn', 815: 'cinqu', 816: 'cf', 817: 'social', 818: 'string', 819: 'chiav', 820: 'deprec', 821: 'except', 822: 'soddisf', 823: 'ugual', 824: 'nat', 825: 'cancel', 826: 'segn', 827: 'serv', 828: 'call', 829: 'context', 830: 'form', 831: 'luogo6', 832: 'ecc', 833: 'abilit', 834: 'autorizz', 835: 'font', 836: 'iner', 837: 'cell', 838: 'concat', 839: 'util', 840: 'proiett', 841: 'month3', 842: 'conferm', 843: 'parent2', 844: 'burocrat', 845: 'stabil', 846: 'necessar', 847: 'ds', 848: 'incolumit', 849: 'archiv', 850: 'name4', 851: 'intervien', 852: 'fiscal', 853: 'immobil', 854: 'normal', 855: 'tabl', 856: 'flag2', 857: 'c3', 858: 'contat', 859: 'ampi', 860: 'vigent', 861: 'mm6', 862: 'usernam', 863: 'oreilli', 864: 'clo', 865: 'cartad', 866: 'xnnnnnnn', 867: 'averl', 868: 'entrat', 869: 'newnam', 870: 'respon', 871: 'respint', 872: 'suol', 873: 'cm', 874: 'vulcan', 875: 'password', 876: 'count', 877: 'log', 878: 'link', 879: 'costruttor', 880: 'luogo2', 881: 'usufru', 882: 'mm5', 883: 'vulc', 884: 'soccor', 885: 'articol', 886: 'mim', 887: 'descritt', 888: 'matrimon', 889: 'requi', 890: 'pp1', 891: 'author', 892: 'calend', 893: 'reazion', 894: 'p0', 895: 'cond', 896: 'esserm', 897: 'michelangel', 898: 'monitoragg', 899: 'edha', 900: 'tutt', 901: 'monitor', 902: 'salient', 903: 'suddivi', 904: 'orar', 905: 'salvatagg', 906: 'civic', 907: 'guerr', 908: 'quand', 909: 'nametab6', 910: 'impost', 911: 'almen', 912: 'impieg', 913: 'clicc', 914: 'help', 915: 'acc', 916: 'luogo1', 917: 'codic', 918: 'spieg', 919: 'malatt', 920: 'espert', 921: 'porzion', 922: 'ip', 923: 'conf', 924: 'vuol', 925: 'modul', 926: 'ret', 927: 'oggi', 928: 'parent3', 929: 'servlet', 930: 'second', 931: 'prevenzion', 932: 'valid', 933: 'tass', 934: 'poll', 935: 'fil', 936: 'assegn', 937: 'temperatur', 938: 'cartaid', 939: 'agibilit', 940: 'viagg', 941: 'dolo', 942: 'nessun', 943: 'ilsistemavisualizzalacircolarescelt', 944: 'funzion', 945: 'edhaun', 946: 'tast', 947: 'osser', 948: 'surnametab5', 949: 'civico1', 950: 'acqui', 951: 'decid', 952: 'p1', 953: 'part', 954: 'par', 955: 'success', 956: 'indiriz', 957: 'comb', 958: 'comun', 959: 'abit', 960: 'filtr', 961: 'richiest', 962: 'surname4', 963: 'profession', 964: 'adverti', 965: 'fran', 966: 'relazion', 967: 'sed', 968: 'adm', 969: 'check2', 970: 'assistenzi', 971: 'chiud', 972: 'esc', 973: 'preselezion', 974: 'fenomen', 975: 'temp', 976: 'istitu', 977: 'fla', 978: 'sql', 979: 'now2', 980: 'dop', 981: 'autorit', 982: 'organ', 983: 'sostitut', 984: 'elettron', 985: 'equal', 986: 'pien', 987: 'bibliotec', 988: 'chiam', 989: 'fa', 990: 'mobil', 991: 'livello2', 992: 'document', 993: 'motiv', 994: 'vien', 995: 'vision', 996: 'impieagt', 997: 'sezion', 998: 'tip', 999: 'luogo5', 1000: 'segu', 1001: 'idc', 1002: 'attivit', 1003: 'residenc', 1004: 'grupp', 1005: 'elim', 1006: 'sismic', 1007: 'func', 1008: 'concor', 1009: 'invoc', 1010: 'servet', 1011: 'esso', 1012: '6835425792119775069l', 1013: 'rimand', 1014: 'config', 1015: 'chimic', 1016: 'preced', 1017: 'recap', 1018: 'disp', 1019: 'newcf', 1020: 'redd', 1021: 'estend', 1022: 'soddisfatt', 1023: 'text', 1024: 'andat', 1025: 'esib', 1026: 'antrop', 1027: 'defin', 1028: 'evit', 1029: 'azion', 1030: 'eruzion', 1031: 'allor', 1032: 'immiss', 1033: 'hair', 1034: 'client', 1035: 'edhalunghezz', 1036: 'pu', 1037: 'standard', 1038: 'livel', 1039: 'prescelt', 1040: 'assunzion', 1041: 'determin', 1042: 'botton', 1043: 'dispost', 1044: 'creazion', 1045: 'modif', 1046: 'local', 1047: 'accett', 1048: 'integ', 1049: 'gerarc', 1050: 'curiosit', 1051: 'surnametab3', 1052: 'eye', 1053: 'intend', 1054: 'email', 1055: 'attual', 1056: 'altriment', 1057: 'riconosc', 1058: 'utilizz', 1059: 'proprietar', 1060: 'param', 1061: 'mal', 1062: 'recup', 1063: 'lowag', 1064: 'vann', 1065: 'alluvion', 1066: 'adv', 1067: 'definizion', 1068: 'admin', 1069: 'sott', 1070: 'ridirezion', 1071: 'rinnov', 1072: 'flag1', 1073: 'tal', 1074: 'txt', 1075: 'np1', 1076: 'partecip', 1077: 'terremot', 1078: 'rispost', 1079: 'richiam', 1080: 'poch', 1081: 'numberdocu', 1082: 'serviz', 1083: 'center', 1084: 'innanzitutt', 1085: 'possibil', 1086: 'camp', 1087: 'a4', 1088: 'controllaid', 1089: 'pertant', 1090: 'fin', 1091: 'pref', 1092: 'conten', 1093: 'resid', 1094: 'visualizz', 1095: 'indirnew', 1096: 'aa2', 1097: 'nascost', 1098: 'ritorn', 1099: 'progett', 1100: 'vet', 1101: 'nucleofamil', 1102: 'repositori', 1103: 'avanz', 1104: 'posit', 1105: 'divent', 1106: 'cr', 1107: 'promozion', 1108: 'idp', 1109: 'assoc', 1110: 'metod', 1111: 'seviz', 1112: 'poter', 1113: 'cianciul', 1114: 'rilasc', 1115: 'approv', 1116: 'avven', 1117: 'trasfer', 1118: 'pulsant', 1119: 'nl', 1120: 'ediliz', 1121: 'chiest', 1122: 'gen', 1123: 'file', 1124: 'opzion', 1125: 'estern', 1126: 'luogon', 1127: 'disabil', 1128: 'espress', 1129: 'alto', 1130: 'natur', 1131: 'consent', 1132: 'citt', 1133: 'sottoscritt', 1134: 'unit', 1135: 'rappres', 1136: 'luog', 1137: 'altezz', 1138: 'cp3', 1139: 'riscontr', 1140: 'enti', 1141: 'accant', 1142: 'disconnett', 1143: 'con', 1144: 'databa', 1145: 'comunenam', 1146: 'dbr', 1147: 'cartac', 1148: 'indirett', 1149: 'identita2', 1150: 'esecu', 1151: '2298846540114609975l', 1152: 'settagg', 1153: 'cre', 1154: 'errat', 1155: 'notiz', 1156: 'info', 1157: 'valu', 1158: 'cartel', 1159: 'terren', 1160: 'esegu', 1161: 'gazzett', 1162: 'queri', 1163: 'curant', 1164: 'transazion', 1165: 'modulon', 1166: 'batteriolog', 1167: 'compost', 1168: 'poss', 1169: 'stud', 1170: 'poi', 1171: 'durant', 1172: 'redirect', 1173: 'locazion', 1174: 'ora', 1175: 'scadenz', 1176: 'cap', 1177: 'attiv', 1178: 'esent', 1179: 'left', 1180: 'pers2', 1181: 'svolg', 1182: 'dbm', 1183: 'chi', 1184: 'ilsistemavisualizzailfascicol', 1185: 'surname6', 1186: 'eventu', 1187: 'rd', 1188: 'aa1', 1189: 'aument', 1190: 'piccol', 1191: 'arriv', 1192: 'avvien', 1193: 'connot', 1194: 'composizion', 1195: 'notturn', 1196: 'capofamigl', 1197: 'right', 1198: 'continu', 1199: 'tesser', 1200: 'mand', 1201: 'mm1', 1202: 'preven', 1203: 'utent', 1204: 'letter', 1205: 'cau', 1206: 'http', 1207: 'remot', 1208: 'aggiung', 1209: 'massim', 1210: 'fornitegl', 1211: 'strument', 1212: 'emerg', 1213: 'inser', 1214: 'bean', 1215: 'riguard', 1216: 'person', 1217: 'rend', 1218: 'mess', 1219: 'risp', 1220: 'present', 1221: 'ac', 1222: 'permett', 1223: 'mendac', 1224: 'amministr', 1225: 'percentag', 1226: 'directori', 1227: 'penal', 1228: 'autocertif', 1229: 'test', 1230: 'mp3', 1231: 'elenc', 1232: 'corrett', 1233: 'giorn', 1234: 'tosap', 1235: 'pool', 1236: 'trac', 1237: 'cntlr', 1238: 'deten', 1239: 'ten', 1240: 'dic', 1241: 'dovrebb', 1242: 'dpr', 1243: 'upper', 1244: 'idtrov', 1245: 'corrent', 1246: 'aspett', 1247: 'decidess', 1248: 'grandezz', 1249: 'dbric', 1250: 'ore', 1251: 'parentela2', 1252: 'anagraf', 1253: 'news', 1254: 'messag', 1255: 'worker', 1256: 'profess', 1257: 'fout', 1258: 'aggiorn', 1259: 'cp1', 1260: 'multipart', 1261: 'categor', 1262: 'residenzi', 1263: 'frequent', 1264: 'splitter', 1265: 'day', 1266: 'qualc', 1267: 'medic', 1268: 'radio1', 1269: 'scorrett', 1270: 'band', 1271: 'lung', 1272: 'random', 1273: 'assist', 1274: 'pratic', 1275: 'ovvi', 1276: 'sf', 1277: 'chiunqu', 1278: 'refert', 1279: 'stri', 1280: 'manten', 1281: 'richi', 1282: 'cifr', 1283: 'gg5', 1284: 'favor', 1285: 'capel', 1286: 'writer', 1287: 'idro', 1288: 'obiett', 1289: 'catast', 1290: 'allacc', 1291: 'compl', 1292: 'immagin', 1293: 'spedizion', 1294: 'ignor', 1295: 'lanc', 1296: 'idn', 1297: 'dedic', 1298: 'notoriet', 1299: 'filter', 1300: 'request'}\n"
     ]
    }
   ],
   "source": [
    "print(inverse_vocab)"
   ]
  },
  {
   "cell_type": "code",
   "execution_count": 15,
   "metadata": {},
   "outputs": [],
   "source": [
    "# Create np arrays to store vectorized data\n",
    "vectorized_data = np.zeros((len(training_data), SEQUENCE_LENGTH))\n",
    "vectorized_labels = np.zeros(len(training_data))\n",
    "i = 0\n",
    "\n",
    "# Vectorize data and arrays for data balancing\n",
    "for batch in unbalanced_ds:\n",
    "    for sequence, label in zip(vectorize_layer(batch[0]), batch[1]):\n",
    "        vectorized_data[i] = sequence\n",
    "        vectorized_labels[i] = label \n",
    "        i += 1"
   ]
  },
  {
   "cell_type": "code",
   "execution_count": 16,
   "metadata": {},
   "outputs": [
    {
     "name": "stdout",
     "output_type": "stream",
     "text": [
      "Percent empty tokens: 28.517096\n",
      "Percent unk tokens: 0.000000\n"
     ]
    }
   ],
   "source": [
    "# Check vectors for [UNK]  and empty string in sequence\n",
    "num_unk = 0\n",
    "num_empty = 0\n",
    "\n",
    "for row in vectorized_data:\n",
    "    for val in row:\n",
    "        if val == 0:\n",
    "            num_empty += 1\n",
    "        elif val == 1:\n",
    "            num_unk += 1\n",
    "            \n",
    "print('Percent empty tokens: %f' %((num_empty/(len(training_data * SEQUENCE_LENGTH)))*100))\n",
    "print('Percent unk tokens: %f' %((num_unk/(len(training_data * SEQUENCE_LENGTH)))*100))"
   ]
  },
  {
   "cell_type": "code",
   "execution_count": 17,
   "metadata": {},
   "outputs": [],
   "source": [
    "# Perform SMOTE on loaded dataset\n",
    "balanced_data_enc, balanced_labels = SMOTE(sampling_strategy=BALANCE_RATIO).fit_resample(vectorized_data, vectorized_labels)"
   ]
  },
  {
   "cell_type": "code",
   "execution_count": 18,
   "metadata": {},
   "outputs": [],
   "source": [
    "# Create new data and label files for balanced set.\n",
    "with open(OUTPUT_DATA_FILE, 'w', newline='') as datafile:\n",
    "    data_writer = csv.writer(datafile, quoting=csv.QUOTE_MINIMAL)\n",
    "\n",
    "    with open(OUTPUT_LABEL_FILE, 'w', newline='') as labelfile:\n",
    "        label_writer = csv.writer(labelfile, quoting=csv.QUOTE_MINIMAL)  \n",
    "\n",
    "        i = 0\n",
    "        for row, label in zip(balanced_data_enc, balanced_labels):\n",
    "            decoded = []\n",
    "            for val in row:\n",
    "                decoded.append(inverse_vocab[int(val)])\n",
    "                \n",
    "            # we will get double spaces due to a 0 being mapped to '' \n",
    "            data_writer.writerow([' '.join(decoded)])\n",
    "            label_writer.writerow([int(label)])\n",
    "            i+=1"
   ]
  },
  {
   "cell_type": "code",
   "execution_count": null,
   "metadata": {},
   "outputs": [],
   "source": []
  }
 ],
 "metadata": {
  "kernelspec": {
   "display_name": "Project_2",
   "language": "python",
   "name": "project_2"
  },
  "language_info": {
   "codemirror_mode": {
    "name": "ipython",
    "version": 3
   },
   "file_extension": ".py",
   "mimetype": "text/x-python",
   "name": "python",
   "nbconvert_exporter": "python",
   "pygments_lexer": "ipython3",
   "version": "3.8.5"
  }
 },
 "nbformat": 4,
 "nbformat_minor": 4
}
