{
 "cells": [
  {
   "cell_type": "code",
   "execution_count": null,
   "metadata": {},
   "outputs": [],
   "source": [
    "import csv\n",
    "import os\n",
    "\n",
    "from pathlib import Path\n",
    "\n",
    "from nltk import download\n",
    "from nltk.corpus import stopwords\n",
    "from nltk.stem import PorterStemmer, SnowballStemmer\n",
    "from nltk.tokenize import word_tokenize"
   ]
  },
  {
   "cell_type": "code",
   "execution_count": null,
   "metadata": {},
   "outputs": [],
   "source": [
    "download('stopwords')\n",
    "download('punkt')"
   ]
  },
  {
   "cell_type": "code",
   "execution_count": null,
   "metadata": {},
   "outputs": [],
   "source": [
    "cc_files = os.listdir('data/cc/')\n",
    "uc_files = os.listdir('data/uc/')"
   ]
  },
  {
   "cell_type": "code",
   "execution_count": null,
   "metadata": {},
   "outputs": [],
   "source": [
    "'''\n",
    "- clean contents of all cc files then save in dictionary for easy concatenation\n",
    "- using the cc filenames as dict keys\n",
    "'''\n",
    "\n",
    "cc_dict = {}\n",
    "\n",
    "for cc in cc_files:\n",
    "    # convert contents of cc file to a string\n",
    "    cc_data = Path('data/cc/'+cc).read_text(encoding='latin-1')\n",
    "    # tokenize file contents\n",
    "    cc_data = word_tokenize(cc_data)\n",
    "    # remove stop words\n",
    "    cc_data = [word for word in cc_data if not word in stopwords.words()]\n",
    "    # remove punt\n",
    "    cc_data = [word for word in cc_data if word.isalnum()]\n",
    "    \n",
    "    # print(cc_data)\n",
    "    # break\n",
    "    \n",
    "    # convert cleaned data list to string and add to dict\n",
    "    cc_dict[cc] = ' '.join(cc_data)"
   ]
  },
  {
   "cell_type": "code",
   "execution_count": null,
   "metadata": {},
   "outputs": [],
   "source": [
    "'''\n",
    "- clean contents of all uc files then save in dictionary for easy concatenation\n",
    "- using the uc filenames as dict keys\n",
    "'''\n",
    "\n",
    "uc_dict = {}\n",
    "\n",
    "for uc in uc_files:\n",
    "    # convert contents of uc file to a string\n",
    "    uc_data = Path('data/uc/'+uc).read_text(encoding='latin-1')\n",
    "    # tokenize file contents\n",
    "    uc_data = word_tokenize(uc_data)\n",
    "    # remove stop words\n",
    "    uc_data = [word for word in uc_data if not word in stopwords.words()]\n",
    "    # remove punt\n",
    "    uc_data = [word for word in uc_data if word.isalnum()]\n",
    "    \n",
    "    # print(uc_data)\n",
    "    # break\n",
    "    \n",
    "    # convert cleaned data list to string and add to dict\n",
    "    uc_dict[uc] = ' '.join(uc_data)"
   ]
  },
  {
   "cell_type": "code",
   "execution_count": null,
   "metadata": {},
   "outputs": [],
   "source": [
    "'''\n",
    "- iterate through all cc files and for each file iterate through all uc files\n",
    "- find which uc files are attached to each cc by checking smos_oracle\n",
    "'''\n",
    "\n",
    "labeled_list = []\n",
    "\n",
    "with open('data/smos_oracle.txt', newline='') as oraclefile:\n",
    "    oracle_reader = csv.reader(oraclefile, delimiter=',')\n",
    "        \n",
    "    for row in oracle_reader:\n",
    "        # remove leading whitespace from comma separated values in smos_oracle\n",
    "        for i in range(len(row)):\n",
    "            row[i] = row[i].lstrip()\n",
    "            \n",
    "        for cc_key in cc_dict.keys():\n",
    "            # print('*** CC: %s ***' %cc_key)\n",
    "            # if the cc filename w/o extension is in the given smos_oracle row\n",
    "            if cc_key.replace('.txt', '') in row:\n",
    "                for uc_key in uc_dict.keys():\n",
    "                    # if the uc filename w/o extension is in the given smos_oracle row\n",
    "                    if uc_key.replace('.txt', '') in row:\n",
    "                        label = 1\n",
    "                    else:\n",
    "                        label = 0\n",
    "                    # print('\\tUC: %s | label: %s' %(uc_key, label))\n",
    "                    # save joined data w/ label as a tuple in list for easy stemming    \n",
    "                    labeled_list.append((cc_dict[cc_key] + ' ' + uc_dict[uc_key], label))                        "
   ]
  },
  {
   "cell_type": "code",
   "execution_count": null,
   "metadata": {},
   "outputs": [],
   "source": [
    "# Porter stemming output file\n",
    "with open('data/all_links_porter.txt', 'w', newline='') as outfile:\n",
    "    writer = csv.writer(outfile, quoting=csv.QUOTE_MINIMAL)\n",
    "    ps = PorterStemmer()\n",
    "    \n",
    "    for labeled_link in labeled_list:\n",
    "        writer.writerow([' '.join([ps.stem(word) for word in labeled_link[0].split()]), labeled_link[1]])"
   ]
  },
  {
   "cell_type": "code",
   "execution_count": null,
   "metadata": {},
   "outputs": [],
   "source": [
    "# Snowball stemming output file\n",
    "with open('data/all_links_snowball.txt', 'w', newline='') as outfile:\n",
    "    writer = csv.writer(outfile, quoting=csv.QUOTE_MINIMAL)\n",
    "    ss = SnowballStemmer('english')\n",
    "    \n",
    "    for labeled_link in labeled_list:\n",
    "        writer.writerow([' '.join([ss.stem(word) for word in labeled_link[0].split()]), labeled_link[1]])"
   ]
  }
 ],
 "metadata": {
  "kernelspec": {
   "display_name": "Project_2",
   "language": "python",
   "name": "project_2"
  },
  "language_info": {
   "codemirror_mode": {
    "name": "ipython",
    "version": 3
   },
   "file_extension": ".py",
   "mimetype": "text/x-python",
   "name": "python",
   "nbconvert_exporter": "python",
   "pygments_lexer": "ipython3",
   "version": "3.8.5"
  }
 },
 "nbformat": 4,
 "nbformat_minor": 4
}
