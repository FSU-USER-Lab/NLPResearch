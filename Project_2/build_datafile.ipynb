{
 "cells": [
  {
   "cell_type": "code",
   "execution_count": null,
   "metadata": {},
   "outputs": [],
   "source": [
    "import csv\n",
    "import os\n",
    "from pathlib import Path"
   ]
  },
  {
   "cell_type": "code",
   "execution_count": null,
   "metadata": {},
   "outputs": [],
   "source": [
    "cc_files = os.listdir('data/cc/')\n",
    "uc_files = os.listdir('data/uc/')"
   ]
  },
  {
   "cell_type": "code",
   "execution_count": null,
   "metadata": {},
   "outputs": [],
   "source": [
    "with open('data/smos_oracle.txt', newline='') as oraclefile:\n",
    "    oracle_reader = csv.reader(oraclefile, delimiter=',')\n",
    "    \n",
    "    with open('data/all_links.txt', 'w', newline='') as outfile:\n",
    "        writer = csv.writer(outfile, quoting=csv.QUOTE_MINIMAL)\n",
    "        \n",
    "        for row in oracle_reader:\n",
    "            for i,val in enumerate(row):\n",
    "                row[i] = row[i].lstrip()\n",
    "            for cc in cc_files:\n",
    "                if cc.replace('.txt', '') in row:\n",
    "                    cc_str = Path('data/cc/'+cc).read_text(encoding='latin-1')\n",
    "                    for uc in uc_files:\n",
    "                        uc_str = Path('data/uc/'+uc).read_text(encoding='latin-1')\n",
    "                        if uc.replace('.txt', '') in row:\n",
    "                            label = 1\n",
    "                        else:\n",
    "                            label = 0\n",
    "                        writer.writerow([cc_str+uc_str, label])\n",
    "                else:\n",
    "                    pass        "
   ]
  },
  {
   "cell_type": "code",
   "execution_count": null,
   "metadata": {},
   "outputs": [],
   "source": []
  }
 ],
 "metadata": {
  "kernelspec": {
   "display_name": "Python 3",
   "language": "python",
   "name": "python3"
  },
  "language_info": {
   "codemirror_mode": {
    "name": "ipython",
    "version": 3
   },
   "file_extension": ".py",
   "mimetype": "text/x-python",
   "name": "python",
   "nbconvert_exporter": "python",
   "pygments_lexer": "ipython3",
   "version": "3.8.5"
  }
 },
 "nbformat": 4,
 "nbformat_minor": 4
}
