{
 "cells": [
  {
   "cell_type": "markdown",
   "metadata": {},
   "source": [
    "This notebook takes text files of cleaned data produced by build_datafiles and creates individual metadocuments sorted by label. Each document contains the text data of a datapoint in the dataset."
   ]
  },
  {
   "cell_type": "code",
   "execution_count": null,
   "metadata": {},
   "outputs": [],
   "source": [
    "import csv\n",
    "import os"
   ]
  },
  {
   "cell_type": "code",
   "execution_count": null,
   "metadata": {},
   "outputs": [],
   "source": [
    "data = []\n",
    "labels = []\n",
    "names = []"
   ]
  },
  {
   "cell_type": "code",
   "execution_count": null,
   "metadata": {},
   "outputs": [],
   "source": [
    "# paths to text files with training data\n",
    "data_file = 'data/smos/smos_data_porter_bal_shuf.txt'\n",
    "label_file = 'data/smos/smos_labels_bal_shuf.txt'\n",
    "name_file = 'data/smos/smos_filenames_bal_shuf.txt'"
   ]
  },
  {
   "cell_type": "code",
   "execution_count": null,
   "metadata": {},
   "outputs": [],
   "source": [
    "# file paths for sorted data\n",
    "# Parent folder to store data separated by class label\n",
    "train_dir = './data/smos/train'\n",
    "# Class folders to store datafiles of each class\n",
    "valid_dir = 'data/smos/train/1'\n",
    "invalid_dir = 'data/smos/train/0'"
   ]
  },
  {
   "cell_type": "code",
   "execution_count": null,
   "metadata": {},
   "outputs": [],
   "source": [
    "os.mkdir(train_dir)\n",
    "os.mkdir(invalid_dir)\n",
    "os.mkdir(valid_dir)"
   ]
  },
  {
   "cell_type": "code",
   "execution_count": null,
   "metadata": {},
   "outputs": [],
   "source": [
    "with open(data_file, newline='') as datafile:\n",
    "    data_reader = csv.reader(datafile, delimiter='\\n')\n",
    "    \n",
    "    for row in data_reader:\n",
    "        data.append(row[0])"
   ]
  },
  {
   "cell_type": "code",
   "execution_count": null,
   "metadata": {},
   "outputs": [],
   "source": [
    "with open(label_file, newline='') as labelfile:\n",
    "    label_reader = csv.reader(labelfile, delimiter='\\n')\n",
    "    \n",
    "    for row in label_reader:\n",
    "        labels.append(int(row[0]))"
   ]
  },
  {
   "cell_type": "code",
   "execution_count": null,
   "metadata": {},
   "outputs": [],
   "source": [
    "with open(name_file, newline='') as namefile:\n",
    "    name_reader = csv.reader(namefile, delimiter='\\n')\n",
    "    \n",
    "    for row in name_reader:\n",
    "        names.append(row[0])"
   ]
  },
  {
   "cell_type": "code",
   "execution_count": null,
   "metadata": {},
   "outputs": [],
   "source": [
    "# Write files to appropriate class folder\n",
    "# File data is a random shuffling of cleaned_CC_text + cleaned_UC_text\n",
    "for i, name in enumerate(names):\n",
    "    if labels[i] == 0:\n",
    "        with open('data/smos/train_bal_shuf/0/'+name+'.txt', 'w') as f:\n",
    "            f.write(data[i])\n",
    "    else:\n",
    "        with open('data/smos/train_bal_shuf/1/'+name+'.txt', 'w') as f:\n",
    "            f.write(data[i])"
   ]
  },
  {
   "cell_type": "code",
   "execution_count": null,
   "metadata": {},
   "outputs": [],
   "source": []
  }
 ],
 "metadata": {
  "kernelspec": {
   "display_name": "Project_2",
   "language": "python",
   "name": "project_2"
  },
  "language_info": {
   "codemirror_mode": {
    "name": "ipython",
    "version": 3
   },
   "file_extension": ".py",
   "mimetype": "text/x-python",
   "name": "python",
   "nbconvert_exporter": "python",
   "pygments_lexer": "ipython3",
   "version": "3.8.5"
  }
 },
 "nbformat": 4,
 "nbformat_minor": 4
}
