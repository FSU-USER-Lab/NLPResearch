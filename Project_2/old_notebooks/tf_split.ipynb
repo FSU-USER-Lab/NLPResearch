{
 "cells": [
  {
   "cell_type": "markdown",
   "metadata": {},
   "source": [
    "This notebook takes text files of cleaned data produced by build_datafiles and creates individual metadocuments sorted by label. Each document contains the text data of a datapoint in the dataset."
   ]
  },
  {
   "cell_type": "code",
   "execution_count": null,
   "metadata": {},
   "outputs": [],
   "source": [
    "import csv\n",
    "import os"
   ]
  },
  {
   "cell_type": "code",
   "execution_count": null,
   "metadata": {},
   "outputs": [],
   "source": [
    "data = []\n",
    "labels = []\n",
    "names = []"
   ]
  },
  {
   "cell_type": "code",
   "execution_count": null,
   "metadata": {},
   "outputs": [],
   "source": [
    "# paths to text files with training data\n",
    "data_file = ''\n",
    "label_file = ''\n",
    "name_file = ''"
   ]
  },
  {
   "cell_type": "code",
   "execution_count": null,
   "metadata": {},
   "outputs": [],
   "source": [
    "# file paths for sorted data\n",
    "# Parent folder to store data separated by class label\n",
    "train_dir = ''\n",
    "# Class folders to store datafiles of each class\n",
    "valid_dir = ''\n",
    "invalid_dir = ''"
   ]
  },
  {
   "cell_type": "code",
   "execution_count": null,
   "metadata": {},
   "outputs": [],
   "source": [
    "os.mkdir(train_dir)\n",
    "os.mkdir(invalid_dir)\n",
    "os.mkdir(valid_dir)"
   ]
  },
  {
   "cell_type": "code",
   "execution_count": null,
   "metadata": {},
   "outputs": [],
   "source": [
    "with open(data_file, newline='') as datafile:\n",
    "    data_reader = csv.reader(datafile, delimiter='\\n')\n",
    "    \n",
    "    for row in data_reader:\n",
    "        data.append(row[0])"
   ]
  },
  {
   "cell_type": "code",
   "execution_count": null,
   "metadata": {},
   "outputs": [],
   "source": [
    "with open(label_file, newline='') as labelfile:\n",
    "    label_reader = csv.reader(labelfile, delimiter='\\n')\n",
    "    \n",
    "    for row in label_reader:\n",
    "        labels.append(int(row[0]))"
   ]
  },
  {
   "cell_type": "code",
   "execution_count": null,
   "metadata": {},
   "outputs": [],
   "source": [
    "with open(name_file, newline='') as namefile:\n",
    "    name_reader = csv.reader(namefile, delimiter='\\n')\n",
    "    \n",
    "    for row in name_reader:\n",
    "        names.append(row[0])"
   ]
  },
  {
   "cell_type": "code",
   "execution_count": null,
   "metadata": {},
   "outputs": [],
   "source": [
    "# Write files to appropriate class folder\n",
    "# File data is a random shuffling of cleaned_CC_text + cleaned_UC_text\n",
    "for i, name in enumerate(names):\n",
    "    if labels[i] == 0:\n",
    "        with open(invalid_dir+'/'+name+'.txt', 'w') as f:\n",
    "            f.write(data[i])\n",
    "    else:\n",
    "        with open(valid_dir+'/'+name+'.txt', 'w') as f:\n",
    "            f.write(data[i])"
   ]
  },
  {
   "cell_type": "code",
   "execution_count": null,
   "metadata": {},
   "outputs": [],
   "source": [
    "# Write files to appropriate class folder\n",
    "# File data is a random shuffling of cleaned_CC_text + cleaned_UC_text\n",
    "for i in range(len(data)):\n",
    "    if labels[i] == 0:\n",
    "        with open(invalid_dir+'/file'+str(i)+'.txt', 'w') as f:\n",
    "            f.write(data[i])\n",
    "    else:\n",
    "        with open(valid_dir+'/file'+str(i)+'.txt', 'w') as f:\n",
    "            f.write(data[i])"
   ]
  },
  {
   "cell_type": "code",
   "execution_count": null,
   "metadata": {},
   "outputs": [],
   "source": []
  }
 ],
 "metadata": {
  "kernelspec": {
   "display_name": "Project_2",
   "language": "python",
   "name": "project_2"
  },
  "language_info": {
   "codemirror_mode": {
    "name": "ipython",
    "version": 3
   },
   "file_extension": ".py",
   "mimetype": "text/x-python",
   "name": "python",
   "nbconvert_exporter": "python",
   "pygments_lexer": "ipython3",
   "version": "3.8.5"
  }
 },
 "nbformat": 4,
 "nbformat_minor": 4
}
